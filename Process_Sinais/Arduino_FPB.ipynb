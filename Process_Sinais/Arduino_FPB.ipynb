{
 "cells": [
  {
   "cell_type": "code",
   "execution_count": 4,
   "id": "5daf39fb-ccc6-4b6f-a994-ed0833e7b789",
   "metadata": {
    "tags": []
   },
   "outputs": [],
   "source": [
    "from scipy import signal\n",
    "import numpy as np"
   ]
  },
  {
   "cell_type": "code",
   "execution_count": 5,
   "id": "def35ae2-fbe5-4f8b-99cd-3b2e65fca044",
   "metadata": {
    "tags": []
   },
   "outputs": [],
   "source": [
    "w0 = 2*np.pi*5"
   ]
  },
  {
   "cell_type": "code",
   "execution_count": 12,
   "id": "4e61ed1e-d8c8-4e98-9b71-8462fb9e386f",
   "metadata": {
    "tags": []
   },
   "outputs": [
    {
     "name": "stdout",
     "output_type": "stream",
     "text": [
      "31.41592653589793\n"
     ]
    }
   ],
   "source": [
    "print(w0)"
   ]
  },
  {
   "cell_type": "code",
   "execution_count": 18,
   "id": "42b8a499-60b7-469b-9b6c-dbc50804f6a8",
   "metadata": {
    "tags": []
   },
   "outputs": [
    {
     "name": "stdout",
     "output_type": "stream",
     "text": [
      "TransferFunctionContinuous(\n",
      "array([31.41592654]),\n",
      "array([ 1.        , 31.41592654]),\n",
      "dt: None\n",
      ")\n"
     ]
    }
   ],
   "source": [
    "num=w0;\n",
    "den=[1, w0];\n",
    "H=signal.TransferFunction(num,den)\n",
    "print(H)"
   ]
  },
  {
   "cell_type": "code",
   "execution_count": 20,
   "id": "d181c14d-85a7-419f-b2be-4e3a25c183c6",
   "metadata": {
    "tags": []
   },
   "outputs": [
    {
     "name": "stdout",
     "output_type": "stream",
     "text": [
      "0.001\n"
     ]
    }
   ],
   "source": [
    "T=1.0/1000.0;\n",
    "print (T)"
   ]
  },
  {
   "cell_type": "code",
   "execution_count": 24,
   "id": "fa1c4834-119a-45ef-afda-1f494bdcded6",
   "metadata": {
    "tags": []
   },
   "outputs": [
    {
     "name": "stdout",
     "output_type": "stream",
     "text": [
      "TransferFunctionDiscrete(\n",
      "array([0.01546504, 0.01546504]),\n",
      "array([ 1.        , -0.96906992]),\n",
      "dt: 0.001\n",
      ")\n"
     ]
    }
   ],
   "source": [
    "Hd=H.to_discrete(T,method='gbt',alpha=0.5)\n",
    "print(Hd)"
   ]
  },
  {
   "cell_type": "code",
   "execution_count": 28,
   "id": "7fbd530a-cdae-4285-8072-edcf5d0c4bd8",
   "metadata": {
    "tags": []
   },
   "outputs": [
    {
     "name": "stdout",
     "output_type": "stream",
     "text": [
      "Coeficientes b_i: [0.01546504 0.01546504]\n",
      "Coeficientes a_i: [-0.96906992]\n"
     ]
    }
   ],
   "source": [
    "b = Hd.num;\n",
    "a = Hd.den;\n",
    "print(\"Coeficientes b_i: \" + str(b))\n",
    "print(\"Coeficientes a_i: \" + str(a[1:]))"
   ]
  },
  {
   "cell_type": "code",
   "execution_count": null,
   "id": "850da99f-edd2-4417-9d59-e53588229837",
   "metadata": {},
   "outputs": [],
   "source": []
  }
 ],
 "metadata": {
  "kernelspec": {
   "display_name": "Python 3 (ipykernel)",
   "language": "python",
   "name": "python3"
  },
  "language_info": {
   "codemirror_mode": {
    "name": "ipython",
    "version": 3
   },
   "file_extension": ".py",
   "mimetype": "text/x-python",
   "name": "python",
   "nbconvert_exporter": "python",
   "pygments_lexer": "ipython3",
   "version": "3.11.7"
  }
 },
 "nbformat": 4,
 "nbformat_minor": 5
}
